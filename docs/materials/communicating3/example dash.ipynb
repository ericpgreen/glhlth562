{
  "cells": [
    {
      "cell_type": "raw",
      "metadata": {},
      "source": [
        "---\n",
        "title: \"Palmer Penguins\"\n",
        "author: \"Cobblepot Analytics\"\n",
        "format: dashboard\n",
        "---"
      ],
      "id": "6437fe38"
    },
    {
      "cell_type": "markdown",
      "metadata": {},
      "source": [
        "## Row {height=70%}"
      ],
      "id": "49dcaa0a"
    },
    {
      "cell_type": "markdown",
      "metadata": {},
      "source": [
        "## Row {height=30%}"
      ],
      "id": "163d174d"
    }
  ],
  "metadata": {
    "kernelspec": {
      "display_name": "Python 3",
      "language": "python",
      "name": "python3"
    }
  },
  "nbformat": 4,
  "nbformat_minor": 5
}